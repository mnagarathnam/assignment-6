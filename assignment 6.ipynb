{
 "cells": [
  {
   "cell_type": "code",
   "execution_count": 5,
   "id": "163fadd8",
   "metadata": {},
   "outputs": [],
   "source": [
    "#6. Create a list(friend_names) with your friends names(atleaste 10 names)?\n",
    "#print all names with in loop \n",
    "#Expected Output: my friend name is \"ravi\"\n",
    "#\t\t     my friend name is \"shanker\"\n"
   ]
  },
  {
   "cell_type": "code",
   "execution_count": 13,
   "id": "85f307d5",
   "metadata": {},
   "outputs": [
    {
     "name": "stdout",
     "output_type": "stream",
     "text": [
      "**** my friends_names is ***** prasanna\n",
      "**** my friends_names is ***** swati\n",
      "**** my friends_names is ***** durga\n",
      "**** my friends_names is ***** jayasri\n",
      "**** my friends_names is ***** parvin\n",
      "**** my friends_names is ***** shabana\n",
      "**** my friends_names is ***** santosh\n",
      "**** my friends_names is ***** mouni\n",
      "**** my friends_names is ***** supraja\n",
      "**** my friends_names is ***** supriya\n"
     ]
    }
   ],
   "source": [
    "friends_names=[\"prasanna\",\"swati\",\"durga\",\"jayasri\",\"parvin\",\"shabana\",\"santosh\",\"mouni\",\"supraja\",\"supriya\"]\n",
    "for p in friends_names:\n",
    "    print(\"**** my friends_names is *****\",p)"
   ]
  },
  {
   "cell_type": "code",
   "execution_count": 7,
   "id": "748d14b5",
   "metadata": {},
   "outputs": [],
   "source": [
    "#7. Create a list(family_members) with your family members names(atleaste 10 names)?\n",
    "#print all names with in loop "
   ]
  },
  {
   "cell_type": "code",
   "execution_count": 12,
   "id": "d63511a5",
   "metadata": {},
   "outputs": [
    {
     "name": "stdout",
     "output_type": "stream",
     "text": [
      "@@@@ my family_members is @@@@ sunil\n",
      "@@@@ my family_members is @@@@ siri\n",
      "@@@@ my family_members is @@@@ govardan\n",
      "@@@@ my family_members is @@@@ raja\n",
      "@@@@ my family_members is @@@@ samba\n",
      "@@@@ my family_members is @@@@ abi\n",
      "@@@@ my family_members is @@@@ nani\n",
      "@@@@ my family_members is @@@@ nikita\n",
      "@@@@ my family_members is @@@@ devi\n",
      "@@@@ my family_members is @@@@ chinni\n"
     ]
    }
   ],
   "source": [
    "family_members=[\"sunil\",\"siri\",\"govardan\",\"raja\",\"samba\",\"abi\",\"nani\",\"nikita\",\"devi\",\"chinni\"]\n",
    "for p in family_members:\n",
    "    print(\"@@@@ my family_members is @@@@\",p)"
   ]
  },
  {
   "cell_type": "code",
   "execution_count": 9,
   "id": "662048b4",
   "metadata": {},
   "outputs": [],
   "source": [
    "#8. Create a list(food_names) with your favorite food names(atleaste 10 names only veg)?\n",
    "#print all names with in loop \n"
   ]
  },
  {
   "cell_type": "code",
   "execution_count": 11,
   "id": "11cc526a",
   "metadata": {},
   "outputs": [
    {
     "name": "stdout",
     "output_type": "stream",
     "text": [
      "$$$ food_names is $$$ lemonrice\n",
      "$$$ food_names is $$$ curdrice\n",
      "$$$ food_names is $$$ ladyfingers\n",
      "$$$ food_names is $$$ potato\n",
      "$$$ food_names is $$$ pongal\n",
      "$$$ food_names is $$$ sambar\n",
      "$$$ food_names is $$$ tamato curry\n",
      "$$$ food_names is $$$ capsicam\n",
      "$$$ food_names is $$$ cabbage\n",
      "$$$ food_names is $$$ beans poriyal\n"
     ]
    }
   ],
   "source": [
    "food_names=[\"lemonrice\",\"curdrice\",\"ladyfingers\",\"potato\",\"pongal\",\"sambar\",\"tamato curry\",\"capsicam\",\"cabbage\",\"beans poriyal\"]\n",
    "for p in food_names:\n",
    "    print(\"$$$ food_names is $$$\",p)"
   ]
  },
  {
   "cell_type": "code",
   "execution_count": 15,
   "id": "673d5d81",
   "metadata": {},
   "outputs": [],
   "source": [
    "#9. Create a tuple(food_names) with your favorite food names(atleaste 10 names only nonveg)?\n",
    "#print all names with in loop"
   ]
  },
  {
   "cell_type": "code",
   "execution_count": 16,
   "id": "a6688d46",
   "metadata": {
    "scrolled": true
   },
   "outputs": [
    {
     "name": "stdout",
     "output_type": "stream",
     "text": [
      "%%% food_names is %%% chicken\n",
      "%%% food_names is %%% mutton\n",
      "%%% food_names is %%% francebiryani\n",
      "%%% food_names is %%% fishfry\n",
      "%%% food_names is %%% eggfry\n",
      "%%% food_names is %%% chicken biryani\n",
      "%%% food_names is %%% mutton biryani\n",
      "%%% food_names is %%% crab curry\n",
      "%%% food_names is %%% france fry\n",
      "%%% food_names is %%% egg biryani\n"
     ]
    }
   ],
   "source": [
    "food_names=(\"chicken\",\"mutton\",\"francebiryani\",\"fishfry\",\"eggfry\",\"chicken biryani\",\"mutton biryani\",\"crab curry\",\"france fry\",\"egg biryani\")\n",
    "for p in food_names:\n",
    "    print(\"%%% food_names is %%%\",p)"
   ]
  },
  {
   "cell_type": "code",
   "execution_count": 17,
   "id": "e74c8e0c",
   "metadata": {},
   "outputs": [],
   "source": [
    "#10. Create a set(colour_names) with your colour names(atleaste 10 names)?\n",
    "#print all names with in loop"
   ]
  },
  {
   "cell_type": "code",
   "execution_count": 18,
   "id": "b3ab3c64",
   "metadata": {},
   "outputs": [
    {
     "name": "stdout",
     "output_type": "stream",
     "text": [
      "&&& colour_names is &&& grey\n",
      "&&& colour_names is &&& blue\n",
      "&&& colour_names is &&& purple\n",
      "&&& colour_names is &&& white\n",
      "&&& colour_names is &&& green\n",
      "&&& colour_names is &&& pink\n",
      "&&& colour_names is &&& yellow\n",
      "&&& colour_names is &&& red\n",
      "&&& colour_names is &&& orange\n",
      "&&& colour_names is &&& black\n"
     ]
    }
   ],
   "source": [
    "colour_names={\"pink\",\"blue\",\"red\",\"green\",\"yellow\",\"white\",\"black\",\"orange\",\"grey\",\"purple\"}\n",
    "for p in colour_names:\n",
    "    print(\"&&& colour_names is &&&\",p)"
   ]
  },
  {
   "cell_type": "code",
   "execution_count": 2,
   "id": "aa443a84",
   "metadata": {},
   "outputs": [],
   "source": [
    " #Create a list(month_names) with your month names(atleaste 10 names)?\n",
    "#print all names with in loop "
   ]
  },
  {
   "cell_type": "code",
   "execution_count": 2,
   "id": "f64ac044",
   "metadata": {
    "scrolled": true
   },
   "outputs": [
    {
     "name": "stdout",
     "output_type": "stream",
     "text": [
      "^^^ month_names is ^^^ january\n",
      "^^^ month_names is ^^^ february\n",
      "^^^ month_names is ^^^ march\n",
      "^^^ month_names is ^^^ april\n",
      "^^^ month_names is ^^^ may\n",
      "^^^ month_names is ^^^ june\n",
      "^^^ month_names is ^^^ july\n",
      "^^^ month_names is ^^^ august\n",
      "^^^ month_names is ^^^ september\n",
      "^^^ month_names is ^^^ october\n",
      "^^^ month_names is ^^^ november\n",
      "^^^ month_names is ^^^ december\n"
     ]
    }
   ],
   "source": [
    "month_names=[\"january\",\"february\",\"march\",\"april\",\"may\",\"june\",\"july\",\"august\",\"september\",\"october\",\"november\",\"december\"]\n",
    "for p in month_names:\n",
    "    print(\"^^^ month_names is ^^^\",p)"
   ]
  },
  {
   "cell_type": "code",
   "execution_count": null,
   "id": "083ff9a6",
   "metadata": {},
   "outputs": [],
   "source": [
    "# print 9th table (1 to 90)"
   ]
  },
  {
   "cell_type": "code",
   "execution_count": 8,
   "id": "1ad350bc",
   "metadata": {
    "scrolled": true
   },
   "outputs": [
    {
     "name": "stdout",
     "output_type": "stream",
     "text": [
      "0\n",
      "9\n",
      "18\n",
      "27\n",
      "36\n",
      "45\n",
      "54\n",
      "63\n",
      "72\n",
      "81\n",
      "90\n"
     ]
    }
   ],
   "source": [
    "range(1,90,9)\n",
    "for p in range(0,91,9):\n",
    "    print(p)"
   ]
  },
  {
   "cell_type": "code",
   "execution_count": null,
   "id": "670d446a",
   "metadata": {},
   "outputs": [],
   "source": [
    "# print(12th table (1 to 120)"
   ]
  },
  {
   "cell_type": "code",
   "execution_count": 7,
   "id": "4457cab7",
   "metadata": {},
   "outputs": [
    {
     "name": "stdout",
     "output_type": "stream",
     "text": [
      "0\n",
      "12\n",
      "24\n",
      "36\n",
      "48\n",
      "60\n",
      "72\n",
      "84\n",
      "96\n",
      "108\n",
      "120\n"
     ]
    }
   ],
   "source": [
    "range(1,120,12)\n",
    "for p in range(0,121,12):\n",
    "    print(p)"
   ]
  },
  {
   "cell_type": "code",
   "execution_count": 1,
   "id": "ea50d518",
   "metadata": {},
   "outputs": [],
   "source": [
    " #print(1th table (1 to 110)"
   ]
  },
  {
   "cell_type": "code",
   "execution_count": 3,
   "id": "5d2168a9",
   "metadata": {},
   "outputs": [
    {
     "name": "stdout",
     "output_type": "stream",
     "text": [
      "0\n",
      "11\n",
      "22\n",
      "33\n",
      "44\n",
      "55\n",
      "66\n",
      "77\n",
      "88\n",
      "99\n",
      "110\n"
     ]
    }
   ],
   "source": [
    "range(1,111,11)\n",
    "for p in range(0,111,11):\n",
    "    print(p)\n",
    "    "
   ]
  },
  {
   "cell_type": "code",
   "execution_count": 5,
   "id": "aae52cb4",
   "metadata": {},
   "outputs": [],
   "source": [
    "#sister and brother=['himaja','jahnavi','chinnari','rajita','ammulu','raja','samba','venkat']\n",
    "#relation=['sister','sister','elder sister','younger sister','sisters','brother','elder brother','younger brother']"
   ]
  },
  {
   "cell_type": "code",
   "execution_count": 1,
   "id": "5fef640d",
   "metadata": {},
   "outputs": [
    {
     "name": "stdout",
     "output_type": "stream",
     "text": [
      "my sisters are himaja\n",
      "my sisters are jahnavi\n",
      "my sisters are chinnari\n",
      "my sisters are rajita\n",
      "my sisters are ammulu\n",
      "relations are sister\n",
      "relations are sister\n",
      "relations are elder sister\n",
      "relations are younger sister\n",
      "relations are sisters\n"
     ]
    }
   ],
   "source": [
    "sisters=['himaja','jahnavi','chinnari','rajita','ammulu']\n",
    "relation=['sister','sister','elder sister','younger sister','sisters']\n",
    "for sis in sisters:\n",
    "    print(\"my sisters are\",sis)\n",
    "for r in relation:\n",
    "    print(\"relations are\",r)\n"
   ]
  },
  {
   "cell_type": "code",
   "execution_count": null,
   "id": "6e827d1b",
   "metadata": {},
   "outputs": [],
   "source": []
  },
  {
   "cell_type": "code",
   "execution_count": null,
   "id": "7b82468b",
   "metadata": {},
   "outputs": [],
   "source": []
  }
 ],
 "metadata": {
  "kernelspec": {
   "display_name": "Python 3 (ipykernel)",
   "language": "python",
   "name": "python3"
  },
  "language_info": {
   "codemirror_mode": {
    "name": "ipython",
    "version": 3
   },
   "file_extension": ".py",
   "mimetype": "text/x-python",
   "name": "python",
   "nbconvert_exporter": "python",
   "pygments_lexer": "ipython3",
   "version": "3.10.9"
  }
 },
 "nbformat": 4,
 "nbformat_minor": 5
}
